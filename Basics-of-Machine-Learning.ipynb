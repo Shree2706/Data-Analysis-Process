{
 "cells": [
  {
   "cell_type": "code",
   "execution_count": 1,
   "id": "27d7bac4",
   "metadata": {},
   "outputs": [],
   "source": [
    "%matplotlib inline\n",
    "import numpy as np\n",
    "import pandas as pd\n",
    "import matplotlib.pyplot as plt\n",
    "import seaborn as sns"
   ]
  },
  {
   "cell_type": "markdown",
   "id": "7de1c086",
   "metadata": {},
   "source": [
    "## 1. What is ML?\n",
    "Machine learning is a branch of artificial intelligence (AI) and computer science which focuses on the use of data and algorithms to imitate the way that humans learn, gradually improving its accuracy. "
   ]
  },
  {
   "cell_type": "markdown",
   "id": "22fa5199",
   "metadata": {},
   "source": [
    "## 2. Types of ML?\n",
    "\n",
    "### Types :- \n",
    "\n",
    "### 1. Supervised Learning\n",
    "### 2. Unsupervised Learning\n",
    "### 3. Reniforcement Learning\n",
    "\n",
    "### What is Supervised Learning?\n",
    "Supervised learning, also known as supervised machine learning, is a subcategory of machine learning and artificial intelligence. It is defined by its use of labeled datasets to train algorithms that to classify data or predict outcomes accurately.\n",
    "\n",
    "### What is Unsupervised Learning?\n",
    "What is unsupervised learning? Unsupervised learning, also known as unsupervised machine learning, uses machine learning algorithms to analyze and cluster unlabeled datasets. These algorithms discover hidden patterns or data groupings without the need for human intervention.\n",
    "\n",
    "### What is Reniforcement Learning?\n",
    "Reinforcement Learning is a part of machine learning. Here, agents are self-trained on reward and punishment mechanisms. It's about taking the best possible action or path to gain maximum rewards and minimum punishment through observations in a specific situation.\n"
   ]
  },
  {
   "cell_type": "markdown",
   "id": "58b865eb",
   "metadata": {},
   "source": [
    "## 3. Batch Learning or Offline Learning\n",
    "\n",
    "Batch learning, also known as offline learning, involves training a model on a fixed dataset, or a batch of data, all at once. The model is trained on the entire dataset, and then used to make predictions on new data. "
   ]
  },
  {
   "cell_type": "markdown",
   "id": "825ee746",
   "metadata": {},
   "source": [
    "## 4. Online Learning \n",
    "\n",
    "Online machine learning is a method of machine learning in which data becomes available in a sequential order and is used to update the best predictor for future data at each step, as opposed to batch learning techniques which generate the best predictor by learning on the entire training data set "
   ]
  },
  {
   "cell_type": "markdown",
   "id": "fac1f81e",
   "metadata": {},
   "source": [
    "## 5. Instance Based Learning vs. Model Based Learning\n",
    "\n",
    "### Instance Based - \n",
    "Instance Based algorithms are the ones which memorize the data in as it is model and predict the outcome. But since it is just memorizing the data, it cannot predict the outcome on the new data bcoz it is not learning anything.\n",
    "\n",
    "### Model Based -\n",
    "Model Based algoritms are the once which try to understand the underlying fundamental principles of the data and learn patterns, and due to their ability to recognize patterns, it can predict the outcome of the new incoming data."
   ]
  },
  {
   "cell_type": "markdown",
   "id": "aca30471",
   "metadata": {},
   "source": [
    "## 6. Challenges in ML\n",
    "\n",
    "### 1. Poor Quality of Data\n",
    "Data plays a significant role in the machine learning process. One of the significant issues that machine learning professionals face is the absence of good quality data.\n",
    "\n",
    "### 2. Underfitting of Training Data\n",
    "This process occurs when data is unable to establish an accurate relationship between input and output variables. It simply means trying to fit in undersized jeans. \n",
    "\n",
    "### 3. Overfitting of Training Data\n",
    "Overfitting refers to a machine learning model trained with a massive amount of data that negatively affect its performance. It is like trying to fit in Oversized jeans.\n",
    "\n",
    "### 4. Machine Learning is a Complex Process\n",
    "The machine learning industry is young and is continuously changing. Rapid hit and trial experiments are being carried on. The process is transforming, and hence there are high chances of error which makes the learning complex. \n",
    "\n",
    "### 5. Lack of Training Data\n",
    "The most important task you need to do in the machine learning process is to train the data to achieve an accurate output. Less amount training data will produce inaccurate or too biased predictions.\n",
    "\n",
    "### 6. Slow Implementation\n",
    "This is one of the common issues faced by machine learning professionals. The machine learning models are highly efficient in providing accurate results, but it takes a tremendous amount of time. \n",
    "\n",
    "### 7. Imperfections in the Algorithm When Data Grows\n",
    "So you have found quality data, trained it amazingly, and the predictions are really concise and accurate. Yay, you have learned how to create a machine learning algorithm!!  But wait, there is a twist; the model may become useless in the future as data grows."
   ]
  },
  {
   "cell_type": "markdown",
   "id": "e35fe289",
   "metadata": {},
   "source": [
    "## 7. Applications of ML\n",
    "\n",
    "### 1. Image Recognition\n",
    "Image Recognition is one of the reasons behind the boom one could have experienced in the field of Deep Learning. The task which started from classification between cats and dog images has now evolved up to the level of Face Recognition and real-world use cases based on that like employee attendance tracking.\n",
    "\n",
    "### 2. Speech Recognition\n",
    "Speech Recognition based smart systems like Alexa and Siri have certainly come across and used to communicate with them. In the backend, these systems are based basically on Speech Recognition systems. These systems are designed such that they can convert voice instructions into text.\n",
    "\n",
    "### 3. Recommender Systems\n",
    "As our world has digitalized more and more approximately every tech giants try to provide customized services to its users. This application is possible just because of the recommender systems which can analyze a user’s preferences and search history and based on that they can recommend content or services to them.\n",
    "\n",
    "### 4. Fraud Detection\n",
    "In today’s world, most things have been digitalized varying from buying toothbrushes or making transactions of millions of dollars everything is accessible and easy to use. But with this process of digitization cases of fraudulent transactions and fraudulent activities have increased. Identifying them is not that easy but machine learning systems are very efficient in these tasks. "
   ]
  },
  {
   "cell_type": "markdown",
   "id": "0e573aba",
   "metadata": {},
   "source": [
    "## 8. ML Development Cycle\n",
    "\n",
    "Its a set of guidelines, which one must follow whenever they are undergoing into a process of creating software products on a small/medium/large scale.\n",
    "\n",
    "### 1. Framing the Problem\n",
    "In this process we decide certain things which will not be changed till the end of the process like,\n",
    "1. why to built this product\n",
    "2. who are our target customers\n",
    "3. how the product will look like \n",
    "4. how the api's will be created\n",
    "5. what should it cost to build\n",
    "6. how much should we price it for customers\n",
    "7. which algorithms to apply\n",
    "8. which libraries to use\n",
    "9. where we will get the data from\n",
    "10. web scraping time window\n",
    "\n",
    "and more...\n",
    "\n",
    "### 2. Gathering the data\n",
    "Getting the data from csv files, APIs, kaggle etc. right into the workplace (jupyter/colab).\n",
    "\n",
    "### 3. Data Processing\n",
    "Now when you gather data from other places, that it is pretty much sure that the data can be unclean or there will be a large amount of unncessary data, and in this part we clean the data in certain steps like:\n",
    "1. removing duplicates\n",
    "2. filling missing values\n",
    "3. detecting and removing outliers\n",
    "4. scaling\n",
    "\n",
    "etc. \n",
    "\n",
    "### 4. EDA\n",
    "complete data analysis and data visualization is done in this part.\n",
    "\n",
    "### 5. Feature Engg. \n",
    "In this process, new columns are created by merging multiple other columns nto one so that the model runs easily and eficiently since there are now less columns to compute.\n",
    "\n",
    "### 6. Model Training Evaluation and selection\n",
    "So when you approach ML to a problem, you don't just begn with building a model, instead what you do is that you approach multiple ML algorithms, and select the best performing model.\n",
    "\n",
    "### 7. Deployment\n",
    "Deploy the ML model to the server using online tools like AWS, Docker etc."
   ]
  },
  {
   "cell_type": "code",
   "execution_count": null,
   "id": "87f2dbc9",
   "metadata": {},
   "outputs": [],
   "source": []
  }
 ],
 "metadata": {
  "kernelspec": {
   "display_name": "Python 3 (ipykernel)",
   "language": "python",
   "name": "python3"
  },
  "language_info": {
   "codemirror_mode": {
    "name": "ipython",
    "version": 3
   },
   "file_extension": ".py",
   "mimetype": "text/x-python",
   "name": "python",
   "nbconvert_exporter": "python",
   "pygments_lexer": "ipython3",
   "version": "3.7.7"
  }
 },
 "nbformat": 4,
 "nbformat_minor": 5
}
