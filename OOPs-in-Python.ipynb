{
 "cells": [
  {
   "cell_type": "markdown",
   "id": "b60f907a",
   "metadata": {},
   "source": [
    "## 1. Classes and Objects"
   ]
  },
  {
   "cell_type": "markdown",
   "id": "b52846a2",
   "metadata": {},
   "source": [
    "### Class\n",
    "A class is a user-defined blueprint or prototype from which objects are created. Classes provide a means of bundling data and functionality together. Creating a new class creates a new type of object, allowing new instances of that type to be made.\n",
    "\n",
    "### Object\n",
    "An Object is an instance of a Class. A class is like a blueprint while an instance is a copy of the class with actual values. "
   ]
  },
  {
   "cell_type": "code",
   "execution_count": 14,
   "id": "143c53ce",
   "metadata": {},
   "outputs": [],
   "source": [
    "# code\n",
    "class Superheroes:\n",
    "    \n",
    "    Marvel = [\"Ironman\",  \"Captain America\", \"Thor\", \"Hulk\", \"Black Widow\",  \"Hawkeye\"]\n",
    "    DC = [\"Batman\", \"Superman\", \"Flash\", \"Wonder Women\", \"Aquaman\"]\n",
    "    \n",
    "object = Superheroes()"
   ]
  },
  {
   "cell_type": "code",
   "execution_count": 15,
   "id": "0d0ee0b0",
   "metadata": {},
   "outputs": [
    {
     "name": "stdout",
     "output_type": "stream",
     "text": [
      "['Ironman', 'Captain America', 'Thor', 'Hulk', 'Black Widow', 'Hawkeye']\n"
     ]
    }
   ],
   "source": [
    "print(object.Marvel)"
   ]
  },
  {
   "cell_type": "code",
   "execution_count": 16,
   "id": "27c48fc3",
   "metadata": {},
   "outputs": [
    {
     "name": "stdout",
     "output_type": "stream",
     "text": [
      "['Batman', 'Superman', 'Flash', 'Wonder Women', 'Aquaman']\n"
     ]
    }
   ],
   "source": [
    "print(object.DC)"
   ]
  },
  {
   "cell_type": "code",
   "execution_count": 19,
   "id": "35cc1196",
   "metadata": {},
   "outputs": [
    {
     "name": "stdout",
     "output_type": "stream",
     "text": [
      "['Ironman', 'Captain America', 'Thor', 'Hulk', 'Black Widow', 'Hawkeye']\n",
      "['Batman', 'Superman', 'Flash', 'Wonder Women', 'Aquaman']\n",
      "['Spiderman', 'Green Lantern']\n"
     ]
    }
   ],
   "source": [
    "# Calling functions which are inside of the class\n",
    "class Superheroes:\n",
    "    \n",
    "    Marvel = [\"Ironman\",  \"Captain America\", \"Thor\", \"Hulk\", \"Black Widow\",  \"Hawkeye\"]   #Variable\n",
    "    DC = [\"Batman\", \"Superman\", \"Flash\", \"Wonder Women\", \"Aquaman\"]     # Variable\n",
    "    \n",
    "# here we've created a function inside our class, but outside of the variables   \n",
    "    def others(self):  # function\n",
    "        l = ['Spiderman', 'Green Lantern']  #Variable\n",
    "        print(l)\n",
    "    \n",
    "object = Superheroes() #object\n",
    "print(object.Marvel)\n",
    "print(object.DC)\n",
    "object.others()  #object"
   ]
  },
  {
   "cell_type": "markdown",
   "id": "45c7a147",
   "metadata": {},
   "source": [
    "## 2. Methods and Constructors\n",
    "\n",
    "### Method\n",
    "A method is a collection of statements that perform some specific task and return the result to the caller. A method can perform some specific task without returning anything.\n",
    "\n",
    "### Constructors\n",
    "A Constructor is a block of code that initializes a newly created object.A Constructor can be used to initialize an object."
   ]
  },
  {
   "cell_type": "code",
   "execution_count": 39,
   "id": "644272ba",
   "metadata": {},
   "outputs": [
    {
     "name": "stdout",
     "output_type": "stream",
     "text": [
      "Harry Potter\n",
      "SuperGirl\n",
      "Falcon\n",
      "RRR\n"
     ]
    }
   ],
   "source": [
    "# code\n",
    "class Superheroes:\n",
    "    DC = 'SuperGirl'\n",
    "    Marvel = 'Falcon'\n",
    "    Netflix = 'RRR'\n",
    "    \n",
    "    def value(self):\n",
    "        print(self.DC)\n",
    "        print(self.Marvel)\n",
    "        \n",
    "        \n",
    "    def OTT(self):\n",
    "        print(self.Netflix)\n",
    "\n",
    "# we did'nt called this function, but still it s getting printed, becoz it is a constructor\n",
    "    def __init__(self):\n",
    "        WB = 'Harry Potter'\n",
    "        print(WB)\n",
    "        \n",
    "obj=Superheroes()\n",
    "obj.value()\n",
    "obj.OTT()"
   ]
  },
  {
   "cell_type": "markdown",
   "id": "1aa4992d",
   "metadata": {},
   "source": [
    "## 3. Inheritance"
   ]
  },
  {
   "cell_type": "markdown",
   "id": "a2cf6eea",
   "metadata": {},
   "source": [
    "Inheritance is the concept in OOPs in which one class inherits the attributes and methods of another class."
   ]
  },
  {
   "cell_type": "code",
   "execution_count": 41,
   "id": "b57df450",
   "metadata": {},
   "outputs": [
    {
     "name": "stdout",
     "output_type": "stream",
     "text": [
      "Ironman\n",
      "Batman\n",
      "Kantara\n"
     ]
    }
   ],
   "source": [
    "class Superheroes:\n",
    "    def Marvel(self):\n",
    "        print(\"Ironman\")\n",
    "        \n",
    "class Superheroes_(Superheroes):\n",
    "    def DC(self):\n",
    "        print(\"Batman\")\n",
    "        \n",
    "class Digital(Superheroes_):\n",
    "    def OTT(self):\n",
    "        print(\"Kantara\")\n",
    "        \n",
    "        \n",
    "obj=Digital()\n",
    "obj.Marvel()\n",
    "obj.DC()\n",
    "obj.OTT()"
   ]
  },
  {
   "cell_type": "markdown",
   "id": "f47ed8a9",
   "metadata": {},
   "source": [
    "### Multiple Inheritance\n",
    "In multiple inheritance, all the classes can be added in the last callable class."
   ]
  },
  {
   "cell_type": "code",
   "execution_count": 43,
   "id": "d864f971",
   "metadata": {},
   "outputs": [
    {
     "name": "stdout",
     "output_type": "stream",
     "text": [
      "Ironman\n",
      "Batman\n",
      "Kantara\n"
     ]
    }
   ],
   "source": [
    "class Superheroes:\n",
    "    def Marvel(self):\n",
    "        print(\"Ironman\")\n",
    "        \n",
    "class Superheroes_:\n",
    "    def DC(self):\n",
    "        print(\"Batman\")\n",
    "        \n",
    "class Digital(Superheroes,Superheroes_):\n",
    "    def OTT(self):\n",
    "        print(\"Kantara\")\n",
    "        \n",
    "        \n",
    "obj=Digital()\n",
    "obj.Marvel()\n",
    "obj.DC()\n",
    "obj.OTT()"
   ]
  },
  {
   "cell_type": "markdown",
   "id": "532eff39",
   "metadata": {},
   "source": [
    "## 4. Encapsulation (Getter & Setter)"
   ]
  },
  {
   "cell_type": "code",
   "execution_count": 49,
   "id": "e7367053",
   "metadata": {},
   "outputs": [
    {
     "name": "stdout",
     "output_type": "stream",
     "text": [
      "Kantara\n"
     ]
    }
   ],
   "source": [
    "class Movies:\n",
    "    def __init__(self):\n",
    "        self.__name=\"\"\n",
    "        \n",
    "    def get(self):\n",
    "        return self.__name\n",
    "    \n",
    "    def set(self,name):\n",
    "        self.__name = name\n",
    "        \n",
    "obj = Student()\n",
    "obj.setname(\"Kantara\")\n",
    "name = obj.getname()\n",
    "print(name)"
   ]
  },
  {
   "cell_type": "markdown",
   "id": "87d78bc4",
   "metadata": {},
   "source": [
    "## Polymorphism"
   ]
  },
  {
   "cell_type": "code",
   "execution_count": null,
   "id": "220c5347",
   "metadata": {},
   "outputs": [],
   "source": [
    "class Digital:\n",
    "    def Prime(self, name=\"\"):\n",
    "        print(\"Farzi \" + name)\n",
    "        \n",
    "obj=Digital()\n",
    "obj.Prime()\n",
    "obj.Prime('& The Family Man')"
   ]
  },
  {
   "cell_type": "code",
   "execution_count": 58,
   "id": "d789844c",
   "metadata": {},
   "outputs": [
    {
     "name": "stdout",
     "output_type": "stream",
     "text": [
      "Farzi\n",
      "& The Family Man\n"
     ]
    }
   ],
   "source": [
    "# Superinfo function in Polymorphism\n",
    "class Digital:\n",
    "    def Prime(self):\n",
    "        print(\"Farzi\")\n",
    "\n",
    "class Digital_(Digital):\n",
    "    def Prime(self):\n",
    "        super().Prime()\n",
    "        print(\"& The Family Man\")\n",
    "        \n",
    "obj=Digital_()\n",
    "obj.Prime()"
   ]
  },
  {
   "cell_type": "code",
   "execution_count": null,
   "id": "3da0d40d",
   "metadata": {},
   "outputs": [],
   "source": []
  }
 ],
 "metadata": {
  "kernelspec": {
   "display_name": "Python 3 (ipykernel)",
   "language": "python",
   "name": "python3"
  },
  "language_info": {
   "codemirror_mode": {
    "name": "ipython",
    "version": 3
   },
   "file_extension": ".py",
   "mimetype": "text/x-python",
   "name": "python",
   "nbconvert_exporter": "python",
   "pygments_lexer": "ipython3",
   "version": "3.7.7"
  }
 },
 "nbformat": 4,
 "nbformat_minor": 5
}
